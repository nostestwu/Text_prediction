{
 "cells": [
  {
   "cell_type": "code",
   "execution_count": 4,
   "id": "87e6cdaf",
   "metadata": {},
   "outputs": [],
   "source": [
    "from keras.models import Sequential\n",
    "from keras.layers import Dense, Dropout, LSTM\n",
    "from keras.optimizers import RMSprop\n",
    "import numpy as np\n",
    "import random\n",
    "import sys\n"
   ]
  },
  {
   "cell_type": "code",
   "execution_count": 5,
   "id": "57155bd2",
   "metadata": {},
   "outputs": [
    {
     "name": "stdout",
     "output_type": "stream",
     "text": [
      "mowgli’s brothers\n",
      "\n",
      "     now rann the kite brings home the night\n",
      "        that mang the bat sets free--\n",
      "     the herds are shut in byre and hut\n",
      "        for loosed till dawn are we.\n",
      "     this is the hour of pride and power,\n",
      "        talon and tush and claw.\n",
      "     oh, hear the call!--good hunting all\n",
      "        that keep the jungle law!\n",
      "     night-song in the jungle\n",
      "\n",
      "it was seven o’clock of a very warm evening in the seeonee hills when\n",
      "father wolf woke up from his day’s rest, scratched himself, yawned, and\n",
      "spread out his paws one after the other to get rid of the sleepy feeling\n",
      "in their tips. mother wolf lay with her big gray nose dropped across her\n",
      "four tumbling, squealing cubs, and the moon shone into the mouth of the\n",
      "cave where they all lived. “augrh!” said father wolf. “it is time to\n",
      "hunt again.” he was going to spring down hill when a little shadow with\n",
      "a bushy tail crossed the threshold and whined: “good luck go with you, o\n",
      "chief of the wolves. and good luck and strong white teeth go with\n"
     ]
    }
   ],
   "source": [
    "#LOAD TEXT\n",
    "#Save notepad as UTF-8 (select from dropdown during saving)\n",
    "filename = \"data/book.txt\"\n",
    "raw_text = open(filename, 'r', encoding='utf-8').read()\n",
    "raw_text = raw_text.lower()\n",
    "\n",
    "print(raw_text[0:1000])"
   ]
  },
  {
   "cell_type": "code",
   "execution_count": 6,
   "id": "80e6539d",
   "metadata": {},
   "outputs": [],
   "source": [
    "#CLEAN TEXT\n",
    "#Remove digits\n",
    "raw_text = ''.join(c for c in raw_text if not c.isdigit())"
   ]
  },
  {
   "cell_type": "code",
   "execution_count": 7,
   "id": "e015354b",
   "metadata": {},
   "outputs": [],
   "source": [
    "#How many total characters do we have in our training text?\n",
    "chars = sorted(list(set(raw_text))) #List of every character\n",
    "\n",
    "char_to_int = dict((c, i) for i, c in enumerate(chars))\n",
    "int_to_char = dict((i, c) for i, c in enumerate(chars))\n",
    "\n"
   ]
  },
  {
   "cell_type": "code",
   "execution_count": 8,
   "id": "9f1bde73",
   "metadata": {},
   "outputs": [
    {
     "name": "stdout",
     "output_type": "stream",
     "text": [
      "Total Characters in the text; corpus length:  291857\n",
      "Total Vocab:  49\n"
     ]
    }
   ],
   "source": [
    "# summarize the data\n",
    "n_chars = len(raw_text)\n",
    "n_vocab = len(chars)\n",
    "print(\"Total Characters in the text; corpus length: \", n_chars)\n",
    "print(\"Total Vocab: \", n_vocab)"
   ]
  },
  {
   "cell_type": "code",
   "execution_count": 9,
   "id": "017aa702",
   "metadata": {},
   "outputs": [
    {
     "name": "stdout",
     "output_type": "stream",
     "text": [
      "Number of sequences: 29180\n"
     ]
    }
   ],
   "source": [
    "########################\n",
    "#Now that we have characters we can create input/output sequences for training\n",
    "#Remember that for LSTM input and output can be sequences... hence the term seq2seq\n",
    "\n",
    "\n",
    "seq_length = 60  #Length of each input sequence\n",
    "step = 10   #Instead of moving 1 letter at a time, try skipping a few. \n",
    "sentences = []    # X values (Sentences)\n",
    "next_chars = []   # Y values. The character that follows the sentence defined as X\n",
    "for i in range(0, n_chars - seq_length, step):  #step=1 means each sentence is offset just by a single letter\n",
    "    sentences.append(raw_text[i: i + seq_length])  #Sequence in\n",
    "    next_chars.append(raw_text[i + seq_length])  #Sequence out\n",
    "n_patterns = len(sentences)    \n",
    "print('Number of sequences:', n_patterns)\n",
    "\n",
    "#Have a look at sentences and next_chars to see the continuity...\n",
    "############################"
   ]
  },
  {
   "cell_type": "code",
   "execution_count": 10,
   "id": "080ab01a",
   "metadata": {},
   "outputs": [
    {
     "name": "stderr",
     "output_type": "stream",
     "text": [
      "/var/folders/pk/zmnwmmlj6d16wn3l4ql40ym80000gn/T/ipykernel_99388/1466857379.py:13: DeprecationWarning: `np.bool` is a deprecated alias for the builtin `bool`. To silence this warning, use `bool` by itself. Doing this will not modify any behavior and is safe. If you specifically wanted the numpy scalar type, use `np.bool_` here.\n",
      "Deprecated in NumPy 1.20; for more details and guidance: https://numpy.org/devdocs/release/1.20.0-notes.html#deprecations\n",
      "  x = np.zeros((len(sentences), seq_length, n_vocab), dtype=np.bool)\n",
      "/var/folders/pk/zmnwmmlj6d16wn3l4ql40ym80000gn/T/ipykernel_99388/1466857379.py:14: DeprecationWarning: `np.bool` is a deprecated alias for the builtin `bool`. To silence this warning, use `bool` by itself. Doing this will not modify any behavior and is safe. If you specifically wanted the numpy scalar type, use `np.bool_` here.\n",
      "Deprecated in NumPy 1.20; for more details and guidance: https://numpy.org/devdocs/release/1.20.0-notes.html#deprecations\n",
      "  y = np.zeros((len(sentences), n_vocab), dtype=np.bool)\n"
     ]
    },
    {
     "name": "stdout",
     "output_type": "stream",
     "text": [
      "(29180, 60, 49)\n",
      "(29180, 49)\n",
      "[[False False False False False False False False False False False False\n",
      "  False False False False False False False False False False False False\n",
      "  False  True False False False False False False False False False False\n",
      "  False False False False False False False False False False False False\n",
      "  False]\n",
      " [False  True False False False False False False False False False False\n",
      "  False False False False False False False False False False False False\n",
      "  False False False False False False False False False False False False\n",
      "  False False False False False False False False False False False False\n",
      "  False]\n",
      " [False False False False False False False False False False False False\n",
      "  False False False False False False False False False False False False\n",
      "  False  True False False False False False False False False False False\n",
      "  False False False False False False False False False False False False\n",
      "  False]\n",
      " [False False False False False False False False False False False False\n",
      "  False False False False False False False False False False False False\n",
      "  False False False False False False False False False False False False\n",
      "  False  True False False False False False False False False False False\n",
      "  False]\n",
      " [False False False False False False False False False  True False False\n",
      "  False False False False False False False False False False False False\n",
      "  False False False False False False False False False False False False\n",
      "  False False False False False False False False False False False False\n",
      "  False]\n",
      " [False  True False False False False False False False False False False\n",
      "  False False False False False False False False False False False False\n",
      "  False False False False False False False False False False False False\n",
      "  False False False False False False False False False False False False\n",
      "  False]\n",
      " [False  True False False False False False False False False False False\n",
      "  False False False False False False False False False False False False\n",
      "  False False False False False False False False False False False False\n",
      "  False False False False False False False False False False False False\n",
      "  False]\n",
      " [False False False False False False False False False False False False\n",
      "  False False False False False False False False False False False False\n",
      "  False False False False False False False False False False False False\n",
      "  False False False False False False False  True False False False False\n",
      "  False]\n",
      " [False False False False False False False False False False False False\n",
      "  False False False False False False False False False False False False\n",
      "  False False False False False False False False False False False False\n",
      "  False False  True False False False False False False False False False\n",
      "  False]\n",
      " [False False False False False False False False False False False False\n",
      "  False False False False False False False False False False False False\n",
      "   True False False False False False False False False False False False\n",
      "  False False False False False False False False False False False False\n",
      "  False]]\n"
     ]
    }
   ],
   "source": [
    "#Just like time series, X is the sequence / sentence and y is the next value\n",
    "#that comes after the sentence... \n",
    "\n",
    "# reshape input to be [samples, time steps, features]\n",
    "\n",
    "#time steps = sequence length\n",
    "#features = numbers of characters in our vocab (n_vocab)\n",
    "#Vectorize all sentences: there are n_patterns sentences.\n",
    "#For each sentence we have n_vocab characters available for seq_length\n",
    "#Vectorization returns a vector for all sentences indicating the presence or absence \n",
    "#of a character. \n",
    "\n",
    "x = np.zeros((len(sentences), seq_length, n_vocab), dtype=np.bool)\n",
    "y = np.zeros((len(sentences), n_vocab), dtype=np.bool)\n",
    "for i, sentence in enumerate(sentences):\n",
    "    for t, char in enumerate(sentence):\n",
    "        x[i, t, char_to_int[char]] = 1\n",
    "    y[i, char_to_int[next_chars[i]]] = 1\n",
    "    \n",
    "print(x.shape)\n",
    "print(y.shape)\n",
    "\n",
    "print(y[0:10])"
   ]
  },
  {
   "cell_type": "code",
   "execution_count": 11,
   "id": "444856c4",
   "metadata": {},
   "outputs": [
    {
     "name": "stderr",
     "output_type": "stream",
     "text": [
      "2022-10-25 11:37:10.564125: I tensorflow/core/platform/cpu_feature_guard.cc:193] This TensorFlow binary is optimized with oneAPI Deep Neural Network Library (oneDNN) to use the following CPU instructions in performance-critical operations:  AVX2 FMA\n",
      "To enable them in other operations, rebuild TensorFlow with the appropriate compiler flags.\n"
     ]
    },
    {
     "name": "stdout",
     "output_type": "stream",
     "text": [
      "Model: \"sequential\"\n",
      "_________________________________________________________________\n",
      " Layer (type)                Output Shape              Param #   \n",
      "=================================================================\n",
      " lstm (LSTM)                 (None, 128)               91136     \n",
      "                                                                 \n",
      " dense (Dense)               (None, 49)                6321      \n",
      "                                                                 \n",
      "=================================================================\n",
      "Total params: 97,457\n",
      "Trainable params: 97,457\n",
      "Non-trainable params: 0\n",
      "_________________________________________________________________\n"
     ]
    },
    {
     "name": "stderr",
     "output_type": "stream",
     "text": [
      "/Users/nostest/opt/anaconda3/lib/python3.9/site-packages/keras/optimizers/optimizer_v2/rmsprop.py:140: UserWarning: The `lr` argument is deprecated, use `learning_rate` instead.\n",
      "  super().__init__(name, **kwargs)\n"
     ]
    }
   ],
   "source": [
    "#Basic model with one LSTM\n",
    "# build the model: a single LSTM\n",
    "\n",
    "#model = Sequential()\n",
    "#model.add(LSTM(128, input_shape=(seq_length, n_vocab)))\n",
    "#model.add(Dense(n_vocab, activation='softmax'))\n",
    "#\n",
    "#optimizer = RMSprop(lr=0.01)\n",
    "#model.compile(loss='categorical_crossentropy', optimizer=optimizer)\n",
    "#model.summary()\n"
   ]
  },
  {
   "cell_type": "code",
   "execution_count": 24,
   "id": "0b6789d9",
   "metadata": {},
   "outputs": [
    {
     "name": "stdout",
     "output_type": "stream",
     "text": [
      "Model: \"sequential_1\"\n",
      "_________________________________________________________________\n",
      " Layer (type)                Output Shape              Param #   \n",
      "=================================================================\n",
      " lstm_1 (LSTM)               (None, 60, 128)           91136     \n",
      "                                                                 \n",
      " dropout (Dropout)           (None, 60, 128)           0         \n",
      "                                                                 \n",
      " lstm_2 (LSTM)               (None, 128)               131584    \n",
      "                                                                 \n",
      " dropout_1 (Dropout)         (None, 128)               0         \n",
      "                                                                 \n",
      " dense_1 (Dense)             (None, 49)                6321      \n",
      "                                                                 \n",
      "=================================================================\n",
      "Total params: 229,041\n",
      "Trainable params: 229,041\n",
      "Non-trainable params: 0\n",
      "_________________________________________________________________\n"
     ]
    },
    {
     "name": "stderr",
     "output_type": "stream",
     "text": [
      "/Users/nostest/opt/anaconda3/lib/python3.9/site-packages/keras/optimizers/optimizer_v2/rmsprop.py:140: UserWarning: The `lr` argument is deprecated, use `learning_rate` instead.\n",
      "  super().__init__(name, **kwargs)\n"
     ]
    }
   ],
   "source": [
    "# Deeper model woth 2 LSTM\n",
    "#To stack LSTM layers, we need to change the configuration of the prior \n",
    "#LSTM layer to output a 3D array as input for the subsequent layer.\n",
    "#We can do this by setting the return_sequences argument on the layer to True \n",
    "#(defaults to False). This will return one output for each input time step and provide a 3D array.\n",
    "#Below is the same example as above with return_sequences=True.\n",
    "\n",
    "model = Sequential()\n",
    "model.add(LSTM(128, input_shape=(seq_length, n_vocab), return_sequences=True))\n",
    "model.add(Dropout(0.2))\n",
    "model.add(LSTM(128))\n",
    "model.add(Dropout(0.2))\n",
    "model.add(Dense(n_vocab, activation='softmax'))\n",
    "\n",
    "optimizer = RMSprop(lr=0.01)\n",
    "model.compile(loss='categorical_crossentropy', optimizer=optimizer)\n",
    "model.summary()"
   ]
  },
  {
   "cell_type": "code",
   "execution_count": 25,
   "id": "d47908b7",
   "metadata": {},
   "outputs": [
    {
     "name": "stdout",
     "output_type": "stream",
     "text": [
      "Epoch 1/50\n",
      "228/228 [==============================] - ETA: 0s - loss: 2.7295\n",
      "Epoch 1: loss improved from inf to 2.72948, saving model to saved_weights/saved_weights-01-2.7295.hdf5\n",
      "228/228 [==============================] - 39s 160ms/step - loss: 2.7295\n",
      "Epoch 2/50\n",
      "228/228 [==============================] - ETA: 0s - loss: 2.1584\n",
      "Epoch 2: loss improved from 2.72948 to 2.15836, saving model to saved_weights/saved_weights-02-2.1584.hdf5\n",
      "228/228 [==============================] - 36s 158ms/step - loss: 2.1584\n",
      "Epoch 3/50\n",
      "228/228 [==============================] - ETA: 0s - loss: 1.9636\n",
      "Epoch 3: loss improved from 2.15836 to 1.96359, saving model to saved_weights/saved_weights-03-1.9636.hdf5\n",
      "228/228 [==============================] - 36s 159ms/step - loss: 1.9636\n",
      "Epoch 4/50\n",
      "228/228 [==============================] - ETA: 0s - loss: 1.8385\n",
      "Epoch 4: loss improved from 1.96359 to 1.83855, saving model to saved_weights/saved_weights-04-1.8385.hdf5\n",
      "228/228 [==============================] - 36s 157ms/step - loss: 1.8385\n",
      "Epoch 5/50\n",
      "228/228 [==============================] - ETA: 0s - loss: 1.7388\n",
      "Epoch 5: loss improved from 1.83855 to 1.73885, saving model to saved_weights/saved_weights-05-1.7388.hdf5\n",
      "228/228 [==============================] - 36s 158ms/step - loss: 1.7388\n",
      "Epoch 6/50\n",
      "228/228 [==============================] - ETA: 0s - loss: 1.6570\n",
      "Epoch 6: loss improved from 1.73885 to 1.65700, saving model to saved_weights/saved_weights-06-1.6570.hdf5\n",
      "228/228 [==============================] - 36s 159ms/step - loss: 1.6570\n",
      "Epoch 7/50\n",
      "228/228 [==============================] - ETA: 0s - loss: 1.5909\n",
      "Epoch 7: loss improved from 1.65700 to 1.59085, saving model to saved_weights/saved_weights-07-1.5909.hdf5\n",
      "228/228 [==============================] - 36s 158ms/step - loss: 1.5909\n",
      "Epoch 8/50\n",
      "228/228 [==============================] - ETA: 0s - loss: 1.5405\n",
      "Epoch 8: loss improved from 1.59085 to 1.54051, saving model to saved_weights/saved_weights-08-1.5405.hdf5\n",
      "228/228 [==============================] - 36s 160ms/step - loss: 1.5405\n",
      "Epoch 9/50\n",
      "228/228 [==============================] - ETA: 0s - loss: 1.4922\n",
      "Epoch 9: loss improved from 1.54051 to 1.49221, saving model to saved_weights/saved_weights-09-1.4922.hdf5\n",
      "228/228 [==============================] - 36s 159ms/step - loss: 1.4922\n",
      "Epoch 10/50\n",
      "228/228 [==============================] - ETA: 0s - loss: 1.4555\n",
      "Epoch 10: loss improved from 1.49221 to 1.45550, saving model to saved_weights/saved_weights-10-1.4555.hdf5\n",
      "228/228 [==============================] - 36s 159ms/step - loss: 1.4555\n",
      "Epoch 11/50\n",
      "228/228 [==============================] - ETA: 0s - loss: 1.4154\n",
      "Epoch 11: loss improved from 1.45550 to 1.41540, saving model to saved_weights/saved_weights-11-1.4154.hdf5\n",
      "228/228 [==============================] - 36s 159ms/step - loss: 1.4154\n",
      "Epoch 12/50\n",
      "228/228 [==============================] - ETA: 0s - loss: 1.3886\n",
      "Epoch 12: loss improved from 1.41540 to 1.38860, saving model to saved_weights/saved_weights-12-1.3886.hdf5\n",
      "228/228 [==============================] - 36s 159ms/step - loss: 1.3886\n",
      "Epoch 13/50\n",
      "228/228 [==============================] - ETA: 0s - loss: 1.3560\n",
      "Epoch 13: loss improved from 1.38860 to 1.35599, saving model to saved_weights/saved_weights-13-1.3560.hdf5\n",
      "228/228 [==============================] - 37s 161ms/step - loss: 1.3560\n",
      "Epoch 14/50\n",
      "228/228 [==============================] - ETA: 0s - loss: 1.3271\n",
      "Epoch 14: loss improved from 1.35599 to 1.32712, saving model to saved_weights/saved_weights-14-1.3271.hdf5\n",
      "228/228 [==============================] - 36s 159ms/step - loss: 1.3271\n",
      "Epoch 15/50\n",
      "228/228 [==============================] - ETA: 0s - loss: 1.3053\n",
      "Epoch 15: loss improved from 1.32712 to 1.30528, saving model to saved_weights/saved_weights-15-1.3053.hdf5\n",
      "228/228 [==============================] - 36s 159ms/step - loss: 1.3053\n",
      "Epoch 16/50\n",
      "228/228 [==============================] - ETA: 0s - loss: 1.2887\n",
      "Epoch 16: loss improved from 1.30528 to 1.28873, saving model to saved_weights/saved_weights-16-1.2887.hdf5\n",
      "228/228 [==============================] - 36s 160ms/step - loss: 1.2887\n",
      "Epoch 17/50\n",
      "228/228 [==============================] - ETA: 0s - loss: 1.2801\n",
      "Epoch 17: loss improved from 1.28873 to 1.28008, saving model to saved_weights/saved_weights-17-1.2801.hdf5\n",
      "228/228 [==============================] - 36s 159ms/step - loss: 1.2801\n",
      "Epoch 18/50\n",
      "228/228 [==============================] - ETA: 0s - loss: 1.2523\n",
      "Epoch 18: loss improved from 1.28008 to 1.25233, saving model to saved_weights/saved_weights-18-1.2523.hdf5\n",
      "228/228 [==============================] - 36s 159ms/step - loss: 1.2523\n",
      "Epoch 19/50\n",
      "228/228 [==============================] - ETA: 0s - loss: 1.2421\n",
      "Epoch 19: loss improved from 1.25233 to 1.24213, saving model to saved_weights/saved_weights-19-1.2421.hdf5\n",
      "228/228 [==============================] - 36s 159ms/step - loss: 1.2421\n",
      "Epoch 20/50\n",
      "228/228 [==============================] - ETA: 0s - loss: 1.2285\n",
      "Epoch 20: loss improved from 1.24213 to 1.22850, saving model to saved_weights/saved_weights-20-1.2285.hdf5\n",
      "228/228 [==============================] - 36s 160ms/step - loss: 1.2285\n",
      "Epoch 21/50\n",
      "228/228 [==============================] - ETA: 0s - loss: 1.2229\n",
      "Epoch 21: loss improved from 1.22850 to 1.22294, saving model to saved_weights/saved_weights-21-1.2229.hdf5\n",
      "228/228 [==============================] - 37s 161ms/step - loss: 1.2229\n",
      "Epoch 22/50\n",
      "228/228 [==============================] - ETA: 0s - loss: 1.2018\n",
      "Epoch 22: loss improved from 1.22294 to 1.20179, saving model to saved_weights/saved_weights-22-1.2018.hdf5\n",
      "228/228 [==============================] - 37s 161ms/step - loss: 1.2018\n",
      "Epoch 23/50\n",
      "228/228 [==============================] - ETA: 0s - loss: 1.1927\n",
      "Epoch 23: loss improved from 1.20179 to 1.19268, saving model to saved_weights/saved_weights-23-1.1927.hdf5\n",
      "228/228 [==============================] - 37s 161ms/step - loss: 1.1927\n",
      "Epoch 24/50\n",
      "228/228 [==============================] - ETA: 0s - loss: 1.1769\n",
      "Epoch 24: loss improved from 1.19268 to 1.17691, saving model to saved_weights/saved_weights-24-1.1769.hdf5\n",
      "228/228 [==============================] - 37s 160ms/step - loss: 1.1769\n",
      "Epoch 25/50\n",
      "228/228 [==============================] - ETA: 0s - loss: 1.1717\n",
      "Epoch 25: loss improved from 1.17691 to 1.17169, saving model to saved_weights/saved_weights-25-1.1717.hdf5\n",
      "228/228 [==============================] - 37s 160ms/step - loss: 1.1717\n",
      "Epoch 26/50\n",
      "228/228 [==============================] - ETA: 0s - loss: 1.1626\n",
      "Epoch 26: loss improved from 1.17169 to 1.16265, saving model to saved_weights/saved_weights-26-1.1626.hdf5\n",
      "228/228 [==============================] - 37s 161ms/step - loss: 1.1626\n",
      "Epoch 27/50\n",
      "228/228 [==============================] - ETA: 0s - loss: 1.1572\n",
      "Epoch 27: loss improved from 1.16265 to 1.15719, saving model to saved_weights/saved_weights-27-1.1572.hdf5\n",
      "228/228 [==============================] - 37s 160ms/step - loss: 1.1572\n",
      "Epoch 28/50\n",
      "228/228 [==============================] - ETA: 0s - loss: 1.1436\n",
      "Epoch 28: loss improved from 1.15719 to 1.14357, saving model to saved_weights/saved_weights-28-1.1436.hdf5\n",
      "228/228 [==============================] - 37s 164ms/step - loss: 1.1436\n",
      "Epoch 29/50\n",
      "228/228 [==============================] - ETA: 0s - loss: 1.1387\n",
      "Epoch 29: loss improved from 1.14357 to 1.13870, saving model to saved_weights/saved_weights-29-1.1387.hdf5\n",
      "228/228 [==============================] - 37s 162ms/step - loss: 1.1387\n",
      "Epoch 30/50\n",
      "228/228 [==============================] - ETA: 0s - loss: 1.1210\n",
      "Epoch 30: loss improved from 1.13870 to 1.12102, saving model to saved_weights/saved_weights-30-1.1210.hdf5\n",
      "228/228 [==============================] - 37s 161ms/step - loss: 1.1210\n",
      "Epoch 31/50\n",
      "228/228 [==============================] - ETA: 0s - loss: 1.1117\n",
      "Epoch 31: loss improved from 1.12102 to 1.11170, saving model to saved_weights/saved_weights-31-1.1117.hdf5\n",
      "228/228 [==============================] - 37s 161ms/step - loss: 1.1117\n",
      "Epoch 32/50\n",
      "228/228 [==============================] - ETA: 0s - loss: 1.0979\n",
      "Epoch 32: loss improved from 1.11170 to 1.09787, saving model to saved_weights/saved_weights-32-1.0979.hdf5\n"
     ]
    },
    {
     "name": "stdout",
     "output_type": "stream",
     "text": [
      "228/228 [==============================] - 37s 161ms/step - loss: 1.0979\n",
      "Epoch 33/50\n",
      "228/228 [==============================] - ETA: 0s - loss: 1.1045\n",
      "Epoch 33: loss did not improve from 1.09787\n",
      "228/228 [==============================] - 36s 159ms/step - loss: 1.1045\n",
      "Epoch 34/50\n",
      "228/228 [==============================] - ETA: 0s - loss: 1.0848\n",
      "Epoch 34: loss improved from 1.09787 to 1.08479, saving model to saved_weights/saved_weights-34-1.0848.hdf5\n",
      "228/228 [==============================] - 36s 158ms/step - loss: 1.0848\n",
      "Epoch 35/50\n",
      "228/228 [==============================] - ETA: 0s - loss: 1.0788\n",
      "Epoch 35: loss improved from 1.08479 to 1.07881, saving model to saved_weights/saved_weights-35-1.0788.hdf5\n",
      "228/228 [==============================] - 37s 161ms/step - loss: 1.0788\n",
      "Epoch 36/50\n",
      "228/228 [==============================] - ETA: 0s - loss: 1.0703\n",
      "Epoch 36: loss improved from 1.07881 to 1.07035, saving model to saved_weights/saved_weights-36-1.0703.hdf5\n",
      "228/228 [==============================] - 37s 160ms/step - loss: 1.0703\n",
      "Epoch 37/50\n",
      "228/228 [==============================] - ETA: 0s - loss: 1.0629\n",
      "Epoch 37: loss improved from 1.07035 to 1.06294, saving model to saved_weights/saved_weights-37-1.0629.hdf5\n",
      "228/228 [==============================] - 37s 161ms/step - loss: 1.0629\n",
      "Epoch 38/50\n",
      "228/228 [==============================] - ETA: 0s - loss: 1.0521\n",
      "Epoch 38: loss improved from 1.06294 to 1.05211, saving model to saved_weights/saved_weights-38-1.0521.hdf5\n",
      "228/228 [==============================] - 37s 162ms/step - loss: 1.0521\n",
      "Epoch 39/50\n",
      "228/228 [==============================] - ETA: 0s - loss: 1.0552\n",
      "Epoch 39: loss did not improve from 1.05211\n",
      "228/228 [==============================] - 37s 161ms/step - loss: 1.0552\n",
      "Epoch 40/50\n",
      "228/228 [==============================] - ETA: 0s - loss: 1.0382\n",
      "Epoch 40: loss improved from 1.05211 to 1.03817, saving model to saved_weights/saved_weights-40-1.0382.hdf5\n",
      "228/228 [==============================] - 37s 161ms/step - loss: 1.0382\n",
      "Epoch 41/50\n",
      "228/228 [==============================] - ETA: 0s - loss: 1.0294\n",
      "Epoch 41: loss improved from 1.03817 to 1.02942, saving model to saved_weights/saved_weights-41-1.0294.hdf5\n",
      "228/228 [==============================] - 37s 161ms/step - loss: 1.0294\n",
      "Epoch 42/50\n",
      "228/228 [==============================] - ETA: 0s - loss: 1.0254\n",
      "Epoch 42: loss improved from 1.02942 to 1.02541, saving model to saved_weights/saved_weights-42-1.0254.hdf5\n",
      "228/228 [==============================] - 37s 161ms/step - loss: 1.0254\n",
      "Epoch 43/50\n",
      "228/228 [==============================] - ETA: 0s - loss: 1.0150\n",
      "Epoch 43: loss improved from 1.02541 to 1.01496, saving model to saved_weights/saved_weights-43-1.0150.hdf5\n",
      "228/228 [==============================] - 37s 161ms/step - loss: 1.0150\n",
      "Epoch 44/50\n",
      "228/228 [==============================] - ETA: 0s - loss: 1.0132\n",
      "Epoch 44: loss improved from 1.01496 to 1.01317, saving model to saved_weights/saved_weights-44-1.0132.hdf5\n",
      "228/228 [==============================] - 37s 163ms/step - loss: 1.0132\n",
      "Epoch 45/50\n",
      "228/228 [==============================] - ETA: 0s - loss: 1.0086\n",
      "Epoch 45: loss improved from 1.01317 to 1.00865, saving model to saved_weights/saved_weights-45-1.0086.hdf5\n",
      "228/228 [==============================] - 38s 166ms/step - loss: 1.0086\n",
      "Epoch 46/50\n",
      "228/228 [==============================] - ETA: 0s - loss: 0.9996\n",
      "Epoch 46: loss improved from 1.00865 to 0.99962, saving model to saved_weights/saved_weights-46-0.9996.hdf5\n",
      "228/228 [==============================] - 37s 162ms/step - loss: 0.9996\n",
      "Epoch 47/50\n",
      "228/228 [==============================] - ETA: 0s - loss: 0.9869\n",
      "Epoch 47: loss improved from 0.99962 to 0.98689, saving model to saved_weights/saved_weights-47-0.9869.hdf5\n",
      "228/228 [==============================] - 37s 162ms/step - loss: 0.9869\n",
      "Epoch 48/50\n",
      "228/228 [==============================] - ETA: 0s - loss: 0.9797\n",
      "Epoch 48: loss improved from 0.98689 to 0.97974, saving model to saved_weights/saved_weights-48-0.9797.hdf5\n",
      "228/228 [==============================] - 37s 162ms/step - loss: 0.9797\n",
      "Epoch 49/50\n",
      "228/228 [==============================] - ETA: 0s - loss: 0.9891\n",
      "Epoch 49: loss did not improve from 0.97974\n",
      "228/228 [==============================] - 37s 162ms/step - loss: 0.9891\n",
      "Epoch 50/50\n",
      "228/228 [==============================] - ETA: 0s - loss: 0.9677\n",
      "Epoch 50: loss improved from 0.97974 to 0.96774, saving model to saved_weights/saved_weights-50-0.9677.hdf5\n",
      "228/228 [==============================] - 37s 162ms/step - loss: 0.9677\n"
     ]
    }
   ],
   "source": [
    "# define the checkpoint\n",
    "from keras.callbacks import ModelCheckpoint\n",
    "\n",
    "filepath=\"saved_weights/saved_weights-{epoch:02d}-{loss:.4f}.hdf5\"\n",
    "checkpoint = ModelCheckpoint(filepath, monitor='loss', verbose=1, save_best_only=True, mode='min')\n",
    "\n",
    "callbacks_list = [checkpoint]\n",
    "\n",
    "\n",
    "# Fit the model\n",
    "\n",
    "history = model.fit(x, y,\n",
    "          batch_size=128,\n",
    "          epochs=50,   \n",
    "          callbacks=callbacks_list)\n",
    "\n",
    "model.save('my_saved_weights_jungle_book_50epochs.h5')"
   ]
  },
  {
   "cell_type": "code",
   "execution_count": 38,
   "id": "d8b45687",
   "metadata": {},
   "outputs": [
    {
     "data": {
      "image/png": "[encoded data removed]",
      "text/plain": [
       "<Figure size 432x288 with 1 Axes>"
      ]
     },
     "metadata": {
      "needs_background": "light"
     },
     "output_type": "display_data"
    }
   ],
   "source": [
    "from matplotlib import pyplot as plt\n",
    "#plot the training and validation accuracy and loss at each epoch\n",
    "loss = history.history['loss']\n",
    "epochs = range(1, len(loss) + 1)\n",
    "plt.plot(epochs, loss, 'y', label='Training loss')\n",
    "plt.title('Training loss')\n",
    "plt.xlabel('Epochs')\n",
    "plt.ylabel('Loss')\n",
    "plt.legend()\n",
    "plt.show()"
   ]
  },
  {
   "cell_type": "code",
   "execution_count": 39,
   "id": "ca2f98ad",
   "metadata": {},
   "outputs": [],
   "source": [
    "#Generate characters \n",
    "#We must provide a sequence of seq_lenth as input to start the generation process\n",
    "\n",
    "#The prediction results is probabilities for each of the 48 characters at a specific\n",
    "#point in sequence. Let us pick the one with max probability and print it out.\n",
    "#Writing our own softmax function....\n",
    "\n",
    "def sample(preds):\n",
    "    preds = np.asarray(preds).astype('float64')\n",
    "    preds = np.log(preds)\n",
    "    exp_preds = np.exp(preds) #exp of log (x), isn't this same as x??\n",
    "    preds = exp_preds / np.sum(exp_preds)\n",
    "    probas = np.random.multinomial(1, preds, 1) \n",
    "    return np.argmax(probas)\n"
   ]
  },
  {
   "cell_type": "code",
   "execution_count": 40,
   "id": "29f4ab16",
   "metadata": {},
   "outputs": [],
   "source": [
    "#Prediction\n",
    "# load the network weights\n",
    "filename = \"my_saved_weights_jungle_book_50epochs.h5\"\n",
    "model.load_weights(filename)\n"
   ]
  },
  {
   "cell_type": "code",
   "execution_count": 41,
   "id": "8a753013",
   "metadata": {},
   "outputs": [],
   "source": [
    "#Pick a random sentence from the text as seed.\n",
    "start_index = random.randint(0, n_chars - seq_length - 1)"
   ]
  },
  {
   "cell_type": "code",
   "execution_count": 42,
   "id": "f9599b27",
   "metadata": {},
   "outputs": [
    {
     "name": "stdout",
     "output_type": "stream",
     "text": [
      "----- Seed for our text prediction: \"lia!\n",
      "see you on parade to-morrow, i suppose. good-night, old\"\n"
     ]
    }
   ],
   "source": [
    "#Initiate generated text and keep adding new predictions and print them out\n",
    "generated = ''\n",
    "sentence = raw_text[start_index: start_index + seq_length]\n",
    "generated += sentence\n",
    "\n",
    "print('----- Seed for our text prediction: \"' + sentence + '\"')\n",
    "#sys.stdout.write(generated)\n",
    "\n",
    "\n"
   ]
  },
  {
   "cell_type": "code",
   "execution_count": 43,
   "id": "ccf2afb7",
   "metadata": {},
   "outputs": [
    {
     "name": "stdout",
     "output_type": "stream",
     "text": [
      " be his fame. “shou prose to be splay, "
     ]
    },
    {
     "name": "stderr",
     "output_type": "stream",
     "text": [
      "/var/folders/pk/zmnwmmlj6d16wn3l4ql40ym80000gn/T/ipykernel_99388/3847965290.py:10: RuntimeWarning: divide by zero encountered in log\n",
      "  preds = np.log(preds)\n"
     ]
    },
    {
     "name": "stdout",
     "output_type": "stream",
     "text": [
      "seal where there was a gras sence make.,\n",
      "in a bun as not domp at lains, and when make he\n",
      "thim? he his hut by the boster socenty shark!” take\n",
      "i\n",
      "     here he had been saubbing in the nug,\n",
      "and the buffaloes, the buffaloes, and drupped his they get to snep, it was a farmse. “the man. what yer sure so but it man-under--if the sha suggeral of the jungle, of the moo\n"
     ]
    }
   ],
   "source": [
    "for i in range(400):   # Number of characters including spaces\n",
    "    x_pred = np.zeros((1, seq_length, n_vocab))\n",
    "    for t, char in enumerate(sentence):\n",
    "        x_pred[0, t, char_to_int[char]] = 1.\n",
    "\n",
    "    preds = model.predict(x_pred, verbose=0)[0]\n",
    "    next_index = sample(preds)\n",
    "    next_char = int_to_char[next_index]\n",
    "\n",
    "    generated += next_char\n",
    "    sentence = sentence[1:] + next_char\n",
    "\n",
    "    sys.stdout.write(next_char)\n",
    "    sys.stdout.flush()\n",
    "print()"
   ]
  },
  {
   "cell_type": "code",
   "execution_count": null,
   "id": "6762a9db",
   "metadata": {},
   "outputs": [],
   "source": []
  },
  {
   "cell_type": "code",
   "execution_count": null,
   "id": "e2cb0c87",
   "metadata": {},
   "outputs": [],
   "source": []
  },
  {
   "cell_type": "code",
   "execution_count": null,
   "id": "7052dab8",
   "metadata": {},
   "outputs": [],
   "source": []
  },
  {
   "cell_type": "code",
   "execution_count": null,
   "id": "118e2633",
   "metadata": {},
   "outputs": [],
   "source": []
  }
 ],
 "metadata": {
  "kernelspec": {
   "display_name": "Python 3 (ipykernel)",
   "language": "python",
   "name": "python3"
  },
  "language_info": {
   "codemirror_mode": {
    "name": "ipython",
    "version": 3
   },
   "file_extension": ".py",
   "mimetype": "text/x-python",
   "name": "python",
   "nbconvert_exporter": "python",
   "pygments_lexer": "ipython3",
   "version": "3.9.7"
  },
  "varInspector": {
   "cols": {
    "lenName": 16,
    "lenType": 16,
    "lenVar": 40
   },
   "kernels_config": {
    "python": {
     "delete_cmd_postfix": "",
     "delete_cmd_prefix": "del ",
     "library": "var_list.py",
     "varRefreshCmd": "print(var_dic_list())"
    },
    "r": {
     "delete_cmd_postfix": ") ",
     "delete_cmd_prefix": "rm(",
     "library": "var_list.r",
     "varRefreshCmd": "cat(var_dic_list()) "
    }
   },
   "position": {
    "height": "230.852px",
    "left": "662px",
    "right": "20px",
    "top": "91px",
    "width": "380px"
   },
   "types_to_exclude": [
    "module",
    "function",
    "builtin_function_or_method",
    "instance",
    "_Feature"
   ],
   "window_display": true
  }
 },
 "nbformat": 4,
 "nbformat_minor": 5
}
